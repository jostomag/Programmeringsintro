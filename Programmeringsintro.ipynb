{
 "cells": [
  {
   "cell_type": "markdown",
   "id": "0997324f",
   "metadata": {},
   "source": [
    "# <span style=\"color:#EF6D6D\"> Programmeringsintro åk 1</span>\n",
    "\n",
    "\n",
    "Jobba med uppgift 1-3 genom att:\n",
    "\n",
    "1. Kör befintlig kod. Testa olika kombinationer.\n",
    "2. Ändra koden enligt stödfrågorna i varje uppgift\n",
    "3. <span style=\"font-weight:bold; color:#D9534f\">Extra</span>: Överraska oss med något spännande. "
   ]
  },
  {
   "cell_type": "markdown",
   "id": "e9a6f6dd",
   "metadata": {},
   "source": [
    "## Uppvärmning för god tur...\n",
    "\n",
    "1. Kör cellen nedan med det klassiska \"Hello World!\"\n",
    "2. Ändra texten till något annat"
   ]
  },
  {
   "cell_type": "code",
   "execution_count": null,
   "id": "8bb9007a",
   "metadata": {},
   "outputs": [],
   "source": [
    "print(\"Hello World!\")"
   ]
  },
  {
   "cell_type": "markdown",
   "id": "5c96208a",
   "metadata": {},
   "source": [
    "## Uppgift 1: Psykologen\n",
    "\n",
    "1. Förstå koden, vad gör den? Testa genom att ändra i den.\n",
    "\n",
    "**Tips!** Ta inte bort grundstrukturer som paranteser och citattecken\n",
    "\n",
    "2. Gör om koden så den får en annan funktion."
   ]
  },
  {
   "cell_type": "code",
   "execution_count": null,
   "id": "69c44132",
   "metadata": {},
   "outputs": [],
   "source": [
    "#\n",
    "namn = input (\"Vad heter du? \")\n",
    "problem = input (\"Vad har du för problem? \")\n",
    "lösning = input (\"Vad tror kan vara lösningen på detta problem? \")\n",
    "\n",
    "print(f\"\"\" \n",
    "\n",
    "-------Psykolog Kronhus-------\n",
    "   ------- Diagnos-------\n",
    "  \n",
    "    Kära {namn}! \n",
    "Du har problem med att du är {problem}\n",
    "Lösningen på detta problem är att {lösning}.\n",
    "\n",
    "   -----Välkommen åter------\n",
    "   \n",
    "        ( ͡❛ ͜ʖ ͡❛)✌\"\"\")"
   ]
  },
  {
   "cell_type": "markdown",
   "id": "9e33e27b",
   "metadata": {},
   "source": [
    "## Uppgift 2: Ålder\n",
    "\n",
    "1. Förstå koden, kommentera vad den gör använd #\n",
    "2. Utöka programmet så du kan skriva in och ut ditt namn\n",
    "3. Ändra programmet så att det beräknar året du fyller 100 år.\n",
    "\n"
   ]
  },
  {
   "cell_type": "code",
   "execution_count": null,
   "id": "9877288e",
   "metadata": {},
   "outputs": [],
   "source": [
    "# Du skriver kommentarer med #\n",
    "\n",
    "ålder = int (input (\"Vad är din ålder? \"))\n",
    "\n",
    "år_född = 2022 - ålder\n",
    "\n",
    "print (f\"Du är född år {år_född}!\")"
   ]
  },
  {
   "cell_type": "markdown",
   "id": "56e42daf",
   "metadata": {},
   "source": [
    "## Uppgift 3: Universitetsväljaren\n",
    "\n",
    "1. Tolka koden. Vad gör den? Kommentera gärna med #\n",
    "2. Lägg till fler utbildningsmöjligheter?\n",
    "3. Lägg till ett åldervillkor till\n",
    "4. Ändra texten"
   ]
  },
  {
   "cell_type": "code",
   "execution_count": null,
   "id": "1f2f4a5c",
   "metadata": {},
   "outputs": [],
   "source": [
    "import random as rd\n",
    "\n",
    "while True:\n",
    " \n",
    "    test = input (\"Vill du välja en utbildning Y/N? \")\n",
    "    \n",
    "    if test == \"Y\":\n",
    "    \n",
    "        namn = input (\"Vad heter du? \")\n",
    "        alder = int(input(\"Hur gammal är du? \"))\n",
    " \n",
    "        if alder < 18:\n",
    "            text = \"Lite ung att söka men...\"\n",
    "        elif alder > 40:\n",
    "            text = \"Du är kanske liiite gammal för att börja plugga...\"\n",
    "        elif alder >= 18 :\n",
    "            text = \"Rätt ålder att ta tag i din utbildning..\"\n",
    " \n",
    " \n",
    "        val = [\"Chalmers\", \"Karlstad universitet\", \"Umeå\", \"Kiruna\", \"Uppsala\", \"Lund\", \"KTH\"]\n",
    " \n",
    "        tyras_val = rd.choice(val)\n",
    " \n",
    "        print (f\"{text}{namn}, du ska studera vid {tyras_val}\")\n",
    "      \n",
    "    else:\n",
    "        break"
   ]
  },
  {
   "cell_type": "code",
   "execution_count": null,
   "id": "90f99c25",
   "metadata": {},
   "outputs": [],
   "source": []
  }
 ],
 "metadata": {
  "kernelspec": {
   "display_name": "Python 3",
   "language": "python",
   "name": "python3"
  },
  "language_info": {
   "codemirror_mode": {
    "name": "ipython",
    "version": 3
   },
   "file_extension": ".py",
   "mimetype": "text/x-python",
   "name": "python",
   "nbconvert_exporter": "python",
   "pygments_lexer": "ipython3",
   "version": "3.8.8"
  }
 },
 "nbformat": 4,
 "nbformat_minor": 5
}
